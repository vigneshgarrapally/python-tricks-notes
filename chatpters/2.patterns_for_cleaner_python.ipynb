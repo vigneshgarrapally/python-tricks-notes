{
 "cells": [
  {
   "cell_type": "markdown",
   "id": "1a912616",
   "metadata": {},
   "source": [
    "# Chapter 2 - Patters for Cleaner Python"
   ]
  },
  {
   "cell_type": "markdown",
   "id": "37dbf586",
   "metadata": {},
   "source": [
    "## 2.1 Assertions"
   ]
  },
  {
   "cell_type": "code",
   "execution_count": 66,
   "id": "97ffbece",
   "metadata": {},
   "outputs": [],
   "source": [
    "def apply_discount(product, discount):\n",
    "    price = product[\"price\"] * (1 - discount)\n",
    "    assert 0 <= price <= product[\"price\"]\n",
    "    return price"
   ]
  },
  {
   "cell_type": "code",
   "execution_count": 67,
   "id": "f8a495ff",
   "metadata": {},
   "outputs": [
    {
     "data": {
      "text/plain": [
       "180.0"
      ]
     },
     "execution_count": 67,
     "metadata": {},
     "output_type": "execute_result"
    }
   ],
   "source": [
    "apply_discount({\"price\": 200}, 0.1)"
   ]
  },
  {
   "cell_type": "code",
   "execution_count": 68,
   "id": "17691f1f",
   "metadata": {},
   "outputs": [
    {
     "ename": "AssertionError",
     "evalue": "",
     "output_type": "error",
     "traceback": [
      "\u001b[0;31m---------------------------------------------------------------------------\u001b[0m",
      "\u001b[0;31mAssertionError\u001b[0m                            Traceback (most recent call last)",
      "Cell \u001b[0;32mIn[68], line 1\u001b[0m\n\u001b[0;32m----> 1\u001b[0m \u001b[43mapply_discount\u001b[49m\u001b[43m(\u001b[49m\u001b[43m{\u001b[49m\u001b[38;5;124;43m\"\u001b[39;49m\u001b[38;5;124;43mprice\u001b[39;49m\u001b[38;5;124;43m\"\u001b[39;49m\u001b[43m:\u001b[49m\u001b[43m \u001b[49m\u001b[38;5;241;43m200\u001b[39;49m\u001b[43m}\u001b[49m\u001b[43m,\u001b[49m\u001b[43m \u001b[49m\u001b[38;5;241;43m1.2\u001b[39;49m\u001b[43m)\u001b[49m\n",
      "Cell \u001b[0;32mIn[66], line 3\u001b[0m, in \u001b[0;36mapply_discount\u001b[0;34m(product, discount)\u001b[0m\n\u001b[1;32m      1\u001b[0m \u001b[38;5;28;01mdef\u001b[39;00m \u001b[38;5;21mapply_discount\u001b[39m(product, discount):\n\u001b[1;32m      2\u001b[0m     price \u001b[38;5;241m=\u001b[39m product[\u001b[38;5;124m\"\u001b[39m\u001b[38;5;124mprice\u001b[39m\u001b[38;5;124m\"\u001b[39m] \u001b[38;5;241m*\u001b[39m (\u001b[38;5;241m1\u001b[39m \u001b[38;5;241m-\u001b[39m discount)\n\u001b[0;32m----> 3\u001b[0m     \u001b[38;5;28;01massert\u001b[39;00m \u001b[38;5;241m0\u001b[39m \u001b[38;5;241m<\u001b[39m\u001b[38;5;241m=\u001b[39m price \u001b[38;5;241m<\u001b[39m\u001b[38;5;241m=\u001b[39m product[\u001b[38;5;124m\"\u001b[39m\u001b[38;5;124mprice\u001b[39m\u001b[38;5;124m\"\u001b[39m]\n\u001b[1;32m      4\u001b[0m     \u001b[38;5;28;01mreturn\u001b[39;00m price\n",
      "\u001b[0;31mAssertionError\u001b[0m: "
     ]
    }
   ],
   "source": [
    "apply_discount({\"price\": 200}, 1.2)"
   ]
  },
  {
   "cell_type": "markdown",
   "id": "21762d18",
   "metadata": {},
   "source": [
    "Why not use exceptions instead of assertions? Because exceptions are meant to be handled, while assertions are meant to be used as a debugging aid. An assertion should never be raised unless there is a bug in the code. If an assertion fails, it indicates that there is a bug in the code. Exceptions, on the other hand, are meant to be handled and can be raised for a variety of reasons, including user input errors, network errors, etc."
   ]
  },
  {
   "cell_type": "markdown",
   "id": "59954994",
   "metadata": {},
   "source": [
    "\n",
    "### 2.1.1 Syntax\n",
    "```python\n",
    "assert_stmt ::= assert expression1 [',' expression2]\n",
    "```\n",
    "\n",
    "Here, `expression1` is the condition to be checked, and `expression2` is an optional message that will be printed if the assertion fails. If `expression1` evaluates to `False`, an `AssertionError` is raised with the message from `expression2`.\n",
    "### 2.1.2 Example\n",
    "\n",
    "\n",
    "```python\n",
    "assert True, \"This should never happen\""
   ]
  },
  {
   "cell_type": "code",
   "execution_count": null,
   "id": "09e24ec2",
   "metadata": {},
   "outputs": [
    {
     "ename": "AssertionError",
     "evalue": "Message to come with assertion",
     "output_type": "error",
     "traceback": [
      "\u001b[0;31m---------------------------------------------------------------------------\u001b[0m",
      "\u001b[0;31mAssertionError\u001b[0m                            Traceback (most recent call last)",
      "Cell \u001b[0;32mIn[7], line 7\u001b[0m\n\u001b[1;32m      5\u001b[0m \u001b[38;5;28;01mif\u001b[39;00m __debug__:\n\u001b[1;32m      6\u001b[0m     \u001b[38;5;28;01mif\u001b[39;00m \u001b[38;5;129;01mnot\u001b[39;00m expression1:\n\u001b[0;32m----> 7\u001b[0m         \u001b[38;5;28;01mraise\u001b[39;00m \u001b[38;5;167;01mAssertionError\u001b[39;00m(expression2)\n",
      "\u001b[0;31mAssertionError\u001b[0m: Message to come with assertion"
     ]
    }
   ],
   "source": [
    "# above is equivalent to below python code\n",
    "\n",
    "expression1 = False\n",
    "expression2 = \"Message to come with assertion\"\n",
    "if __debug__:\n",
    "    if not expression1:\n",
    "        raise AssertionError(expression2)"
   ]
  },
  {
   "cell_type": "code",
   "execution_count": null,
   "id": "8ea6cebb",
   "metadata": {},
   "outputs": [
    {
     "ename": "AssertionError",
     "evalue": "(\"This shouldn't come but if this has come,something is not as expectedcontact the developer\",)",
     "output_type": "error",
     "traceback": [
      "\u001b[0;31m---------------------------------------------------------------------------\u001b[0m",
      "\u001b[0;31mAssertionError\u001b[0m                            Traceback (most recent call last)",
      "Cell \u001b[0;32mIn[11], line 8\u001b[0m\n\u001b[1;32m      6\u001b[0m     do_y()\n\u001b[1;32m      7\u001b[0m \u001b[38;5;28;01melse\u001b[39;00m:\n\u001b[0;32m----> 8\u001b[0m     \u001b[38;5;28;01massert\u001b[39;00m \u001b[38;5;28;01mFalse\u001b[39;00m, (\n\u001b[1;32m      9\u001b[0m         \u001b[38;5;124m\"\u001b[39m\u001b[38;5;124mThis shouldn\u001b[39m\u001b[38;5;124m'\u001b[39m\u001b[38;5;124mt come but if this has come,something is not as expected\u001b[39m\u001b[38;5;124m\"\u001b[39m\n\u001b[1;32m     10\u001b[0m         \u001b[38;5;124m\"\u001b[39m\u001b[38;5;124mcontact the developer\u001b[39m\u001b[38;5;124m\"\u001b[39m,\n\u001b[1;32m     11\u001b[0m     )\n",
      "\u001b[0;31mAssertionError\u001b[0m: (\"This shouldn't come but if this has come,something is not as expectedcontact the developer\",)"
     ]
    }
   ],
   "source": [
    "# another use case\n",
    "cond = \"z\"\n",
    "if cond == \"x\":\n",
    "    do_x()\n",
    "elif cond == \"y\":\n",
    "    do_y()\n",
    "else:\n",
    "    assert False, (\n",
    "        \"This shouldn't come but if this has come,something is not as expected\"\n",
    "        \"contact the developer\",\n",
    "    )"
   ]
  },
  {
   "cell_type": "markdown",
   "id": "8f25eddd",
   "metadata": {},
   "source": [
    "There are two caveats to know while using assertions:\n",
    "\n",
    "1. **Do Not use to validate data**: Assertions can be disabled globally with the `-O` (optimize) flag or the `PYTHONOPTIMIZE` environment variable. This means that assertions should not be used for data validation or any other critical checks that need to be performed in production code.\n",
    "\n",
    "```python\n",
    "def delete_product(prod_id,user):\n",
    "    assert user.is_admin, \"Only admins can delete products\"\n",
    "    assert prod_id in products, \"Product not found\"\n",
    "    del products[prod_id]\n",
    "```\n",
    "\n",
    "In above code, if the user is not an admin and runs the code with `-O` flag, the assertion will be skipped and the product will be deleted which is very dangerous. \n",
    "\n",
    "2. **Asserts that never fail**: \n",
    "\n",
    "Look at following code:"
   ]
  },
  {
   "cell_type": "code",
   "execution_count": null,
   "id": "366ce6e0",
   "metadata": {},
   "outputs": [
    {
     "name": "stderr",
     "output_type": "stream",
     "text": [
      "<>:1: SyntaxWarning: assertion is always true, perhaps remove parentheses?\n",
      "<>:1: SyntaxWarning: assertion is always true, perhaps remove parentheses?\n",
      "/var/folders/kc/cmchflms1qxgpgwvllhfc3080000gn/T/ipykernel_48494/953681201.py:1: SyntaxWarning: assertion is always true, perhaps remove parentheses?\n",
      "  assert (1 == 2, \"This should fail\")\n"
     ]
    }
   ],
   "source": [
    "assert (1 == 2, \"This should fail\")"
   ]
  },
  {
   "cell_type": "markdown",
   "id": "21009c3b",
   "metadata": {},
   "source": [
    "Reason being when you pass tuple as the first argument to assert, it will always be true. This is because the tuple is evaluated as a truthy value, and the assertion will never fail. Newer versions of Python will raise a `SyntaxWarning` for this, but it is still a good practice to avoid using tuples in assertions.\n"
   ]
  },
  {
   "cell_type": "markdown",
   "id": "b76cd944",
   "metadata": {},
   "source": [
    "## 2.2 Complacent Comma Placement"
   ]
  },
  {
   "cell_type": "markdown",
   "id": "eb5def8f",
   "metadata": {},
   "source": [
    "Smart formatter tools like `black` can help you avoid this problem by automatically formatting your code to ensure that commas are placed correctly. However, it is still important to be aware of how to commas placement can affect the readability of your code.\n",
    "\n",
    "When you have a long list of items in lists or tuples it is a good practice to write each item on a new line and place the comma at the end of the line including the last item. This makes it easier to read and understand the code, and also makes it easier to add or remove items from the list in the future.\n",
    "\n",
    "```python\n",
    "# Bad\n",
    "my_list = [\n",
    "    \"item1\", \"item2\", \"item3\", \"item4\", \"item5\", \"item6\", \"item7\",\n",
    "    \"item8\", \"item9\", \"item10\"\n",
    "]\n",
    "\n",
    "# Good\n",
    "my_list = [\n",
    "    \"item1\",\n",
    "    \"item2\",\n",
    "    \"item3\",\n",
    "    \"item4\",\n",
    "    \"item5\",\n",
    "    \"item6\",\n",
    "    \"item7\",\n",
    "    \"item8\",\n",
    "    \"item9\",\n",
    "    \"item10\",\n",
    "]\n",
    "```\n"
   ]
  },
  {
   "cell_type": "code",
   "execution_count": null,
   "id": "99b65439",
   "metadata": {},
   "outputs": [
    {
     "data": {
      "text/plain": [
       "['Alice',\n",
       " 'Bob',\n",
       " 'Dilbert',\n",
       " 'Jane',\n",
       " 'Doe',\n",
       " 'Sunil',\n",
       " 'Bob',\n",
       " 'Dilbert',\n",
       " 'Jane',\n",
       " 'DoeDenver']"
      ]
     },
     "execution_count": 19,
     "metadata": {},
     "output_type": "execute_result"
    }
   ],
   "source": [
    "names = [\n",
    "    \"Alice\",\n",
    "    \"Bob\",\n",
    "    \"Dilbert\",\n",
    "    \"Jane\",\n",
    "    \"Doe\",\n",
    "    \"Sunil\",\n",
    "    \"Bob\",\n",
    "    \"Dilbert\",\n",
    "    \"Jane\",\n",
    "    \"Doe\" \"Denver\",\n",
    "]\n",
    "names"
   ]
  },
  {
   "cell_type": "markdown",
   "id": "3b971384",
   "metadata": {},
   "source": [
    "If you observe the above code, last two items in the list are concatenated. This merging of strings is a feature in python refereed to as \"string literal concatenation\". \n",
    "\n",
    "> String literal concatenation: Multiple adjacent string or bytes literals possibly using different types of quotes are allowed and their meaning is the same as their concatenation."
   ]
  },
  {
   "cell_type": "code",
   "execution_count": null,
   "id": "e8537728",
   "metadata": {},
   "outputs": [
    {
     "data": {
      "text/plain": [
       "'This is a super long string that spans acorss different lines using different quotations although python does concantenate for us'"
      ]
     },
     "execution_count": 22,
     "metadata": {},
     "output_type": "execute_result"
    }
   ],
   "source": [
    "my_str = (\n",
    "    \"This is a super long string that spans \"\n",
    "    \"acorss different lines using different quotations \"\n",
    "    \"although python does concantenate for us\"\n",
    ")\n",
    "my_str"
   ]
  },
  {
   "cell_type": "markdown",
   "id": "2a82a2b9",
   "metadata": {},
   "source": [
    "## 2.3 Context Managers and the `with` statement"
   ]
  },
  {
   "cell_type": "markdown",
   "id": "63e82fa9",
   "metadata": {},
   "source": [
    "> Benefit of using with? It helps simplify common resource management patterns by abstracting their functionality and allowing them to be factored out and reused."
   ]
  },
  {
   "cell_type": "code",
   "execution_count": 89,
   "id": "787ba948",
   "metadata": {},
   "outputs": [],
   "source": [
    "with open(\"hello.txt\", \"w\") as f:\n",
    "    f.write(\"Hello\")"
   ]
  },
  {
   "cell_type": "markdown",
   "id": "fdb62f1e",
   "metadata": {},
   "source": [
    "Above is same as below code"
   ]
  },
  {
   "cell_type": "code",
   "execution_count": 91,
   "id": "930551fa",
   "metadata": {},
   "outputs": [],
   "source": [
    "f = open(\"hello.txt\", \"a\")\n",
    "try:\n",
    "    f.write(\"hello\")\n",
    "finally:\n",
    "    f.close()"
   ]
  },
  {
   "cell_type": "code",
   "execution_count": null,
   "id": "2d1c0db4",
   "metadata": {},
   "outputs": [],
   "source": [
    "# this is bad\n",
    "\n",
    "f = open(\"hello.txt\", \"w\")\n",
    "f.write(\"hello\")\n",
    "f.close()"
   ]
  },
  {
   "cell_type": "markdown",
   "id": "4723547f",
   "metadata": {},
   "source": [
    "Above is not the correct way as if any exception occurs in the code, release of the resource will not happen and the resource will be leaked. \n"
   ]
  },
  {
   "cell_type": "code",
   "execution_count": null,
   "id": "04058cf0",
   "metadata": {},
   "outputs": [],
   "source": [
    "#another threading example\n",
    "import threading\n",
    "some_lock = threading.Lock()\n",
    "\n",
    "#Harmful\n",
    "some_lock.acquire()\n",
    "\n",
    "try:\n",
    "    #Do something here\n",
    "finally:\n",
    "    some_lock.release()\n",
    "\n",
    "#Better way\n",
    "\n",
    "with some_lock:\n",
    "    #Do Something here"
   ]
  },
  {
   "cell_type": "markdown",
   "id": "eb46fa3d",
   "metadata": {},
   "source": [
    "In order to support with in your own classes, you need to implement two special methods: `__enter__` and `__exit__`. The `__enter__` method is called when the `with` statement is executed, and the `__exit__` method is called when the block of code inside the `with` statement is exited. \n",
    "\n"
   ]
  },
  {
   "cell_type": "code",
   "execution_count": 93,
   "id": "5cbb3dbc",
   "metadata": {},
   "outputs": [],
   "source": [
    "class ManagedFile:\n",
    "    def __init__(self, name):\n",
    "        self.name = name\n",
    "\n",
    "    def __enter__(self):\n",
    "        self.file = open(self.name, \"w\")\n",
    "        return self.file\n",
    "\n",
    "    def __exit__(self, exc_type, exc_val, exc_tb):\n",
    "        if self.file:\n",
    "            self.file.close()\n",
    "\n",
    "\n",
    "with ManagedFile(\"hello.txt\") as f:\n",
    "    f.write(\"Bye\")"
   ]
  },
  {
   "cell_type": "markdown",
   "id": "94c52cb1",
   "metadata": {},
   "source": [
    "Above examples are class-based context managers. You can also create context managers using generator functions with the `contextlib` module.\n",
    "\n"
   ]
  },
  {
   "cell_type": "code",
   "execution_count": null,
   "id": "b7c8c0aa",
   "metadata": {},
   "outputs": [],
   "source": [
    "from contextlib import contextmanager\n",
    "\n",
    "\n",
    "@contextmanager\n",
    "def managed_file(filename):\n",
    "    try:\n",
    "        file = open(filename, \"w\")\n",
    "        yield file\n",
    "    finally:\n",
    "        file.close()\n",
    "\n",
    "\n",
    "with managed_file(\"hello.txt\") as f:\n",
    "    f.write(\"Hello again!@\")\n",
    "    f.write(\"Bye now \")"
   ]
  },
  {
   "cell_type": "markdown",
   "id": "ac3d0290",
   "metadata": {},
   "source": [
    "`managed_file()` is a generator that first acquires the resource. After that, it temporarily suspends its own execution and yields the resource so itcan be used by the caller. When the caller leaves the with context, the generator continues to execute so that any remaining clean-up steps can occur and the resource can get released back to the system."
   ]
  },
  {
   "cell_type": "code",
   "execution_count": 99,
   "id": "26c9badb",
   "metadata": {},
   "outputs": [
    {
     "name": "stdout",
     "output_type": "stream",
     "text": [
      "    hi!\n",
      "        hello\n",
      "            Namaste\n",
      "    bagunnara\n"
     ]
    }
   ],
   "source": [
    "class Indenter:\n",
    "    def __init__(self):\n",
    "        self.level = 0\n",
    "\n",
    "    def __enter__(self):\n",
    "        self.level += 1\n",
    "        return self\n",
    "\n",
    "    def print(self, message):\n",
    "        print(\"    \" * self.level + message)\n",
    "\n",
    "    def __exit__(self, exc_type, exc_val, exc_tb):\n",
    "        self.level -= 1\n",
    "\n",
    "\n",
    "with Indenter() as indent:\n",
    "    indent.print(\"hi!\")\n",
    "    with indent:\n",
    "        indent.print(\"hello\")\n",
    "        with indent:\n",
    "            indent.print(\"Namaste\")\n",
    "    indent.print(\"bagunnara\")"
   ]
  },
  {
   "cell_type": "markdown",
   "id": "ea4b11d4",
   "metadata": {},
   "source": [
    "## 2.4 Underscores, Dunders and More"
   ]
  },
  {
   "cell_type": "markdown",
   "id": "139b41bf",
   "metadata": {},
   "source": [
    "In broad, there are five underscore conventions in Python:\n",
    "\n",
    "1. **Single leading underscore**: `_var` \n",
    "2. **Single trailing underscore**: `var_`\n",
    "3. **Double leading underscore**: `__var`\n",
    "4. **Double leading and trailing underscore**: `__var__`\n",
    "5. **Single underscore**: `_`"
   ]
  },
  {
   "cell_type": "markdown",
   "id": "7108259a",
   "metadata": {},
   "source": [
    "### 2.4.1 Single leading underscore\n",
    "The single leading underscore is only a convention and does not affect the behavior of the variable. It is used to indication to possibly another developer that the variable is intended for internal use only and should not be accessed directly. It is a weak \"internal use\" indicator. This convention is defined in PEP 8, the common style guide for Python code.\n",
    "\n"
   ]
  },
  {
   "cell_type": "code",
   "execution_count": null,
   "id": "3b843d3e",
   "metadata": {},
   "outputs": [
    {
     "name": "stdout",
     "output_type": "stream",
     "text": [
      "11\n",
      "13\n"
     ]
    }
   ],
   "source": [
    "class Test:\n",
    "    def __init__(self):\n",
    "        self.foo = 11\n",
    "        self._bar = 13\n",
    "\n",
    "\n",
    "t = Test()\n",
    "print(t.foo)\n",
    "print(t._bar)"
   ]
  },
  {
   "cell_type": "markdown",
   "id": "cb3386f4",
   "metadata": {},
   "source": [
    "Single leading underscore doesn't stop from accessing the varible as shown here. This is merely an agreed upon convention. However, leading underscore does impact how the variable is imported when using wildcard import syntax `from module import *`. Anyhow, it is a bad practice and to be avoided using wildcard imports as they make it unclear which names are present in the namespace"
   ]
  },
  {
   "cell_type": "code",
   "execution_count": null,
   "id": "ba76af3c",
   "metadata": {},
   "outputs": [
    {
     "name": "stdout",
     "output_type": "stream",
     "text": [
      "23\n"
     ]
    },
    {
     "ename": "NameError",
     "evalue": "name '_internal_func' is not defined",
     "output_type": "error",
     "traceback": [
      "\u001b[0;31m---------------------------------------------------------------------------\u001b[0m",
      "\u001b[0;31mNameError\u001b[0m                                 Traceback (most recent call last)",
      "Cell \u001b[0;32mIn[61], line 4\u001b[0m\n\u001b[1;32m      1\u001b[0m \u001b[38;5;28;01mfrom\u001b[39;00m \u001b[38;5;21;01mmy_module\u001b[39;00m \u001b[38;5;28;01mimport\u001b[39;00m \u001b[38;5;241m*\u001b[39m\n\u001b[1;32m      3\u001b[0m \u001b[38;5;28mprint\u001b[39m(external_func())\n\u001b[0;32m----> 4\u001b[0m \u001b[38;5;28mprint\u001b[39m(\u001b[43m_internal_func\u001b[49m())\n",
      "\u001b[0;31mNameError\u001b[0m: name '_internal_func' is not defined"
     ]
    }
   ],
   "source": [
    "from my_module import *\n",
    "\n",
    "print(external_func())\n",
    "print(_internal_func())"
   ]
  },
  {
   "cell_type": "code",
   "execution_count": null,
   "id": "8e25f175",
   "metadata": {},
   "outputs": [
    {
     "name": "stdout",
     "output_type": "stream",
     "text": [
      "23\n",
      "24\n"
     ]
    }
   ],
   "source": [
    "from my_module import external_func, _internal_func\n",
    "\n",
    "print(external_func())\n",
    "print(_internal_func())"
   ]
  },
  {
   "cell_type": "markdown",
   "id": "b702a3dc",
   "metadata": {},
   "source": [
    "### 2.4.2 Single trailing underscore\n",
    "\n",
    "The single trailing underscore is used to avoid naming conflicts with Python keywords or built-in names. For example, if you want to use the name `class` as a variable name, you can use `class_` instead. This is also a convention and does not affect the behavior of the variable."
   ]
  },
  {
   "cell_type": "code",
   "execution_count": null,
   "id": "fb76e4e4",
   "metadata": {},
   "outputs": [
    {
     "ename": "SyntaxError",
     "evalue": "invalid syntax (1426137068.py, line 1)",
     "output_type": "error",
     "traceback": [
      "\u001b[0;36m  Cell \u001b[0;32mIn[64], line 1\u001b[0;36m\u001b[0m\n\u001b[0;31m    def make_object(name,class):\u001b[0m\n\u001b[0m                         ^\u001b[0m\n\u001b[0;31mSyntaxError\u001b[0m\u001b[0;31m:\u001b[0m invalid syntax\n"
     ]
    }
   ],
   "source": [
    "def make_object(name,class):\n",
    "    pass"
   ]
  },
  {
   "cell_type": "code",
   "execution_count": null,
   "id": "3a49cf51",
   "metadata": {},
   "outputs": [],
   "source": [
    "def make_object(name, class_):\n",
    "    pass"
   ]
  },
  {
   "cell_type": "markdown",
   "id": "966d46e1",
   "metadata": {},
   "source": [
    "### 2.4.3 Double leading underscore\n",
    "\n",
    "A double leading underscore prefix causes the Python interpreter to rewrite the attribute name in order to avoid naming conflicts in subclasses. This is known as name mangling. The interpreter changes the name of the variable in a way that makes it harder to create subclasses that accidentally override the private attributes and methods."
   ]
  },
  {
   "cell_type": "code",
   "execution_count": null,
   "id": "263c7738",
   "metadata": {},
   "outputs": [
    {
     "data": {
      "text/plain": [
       "['_Test__baz',\n",
       " '__class__',\n",
       " '__delattr__',\n",
       " '__dict__',\n",
       " '__dir__',\n",
       " '__doc__',\n",
       " '__eq__',\n",
       " '__format__',\n",
       " '__ge__',\n",
       " '__getattribute__',\n",
       " '__getstate__',\n",
       " '__gt__',\n",
       " '__hash__',\n",
       " '__init__',\n",
       " '__init_subclass__',\n",
       " '__le__',\n",
       " '__lt__',\n",
       " '__module__',\n",
       " '__ne__',\n",
       " '__new__',\n",
       " '__reduce__',\n",
       " '__reduce_ex__',\n",
       " '__repr__',\n",
       " '__setattr__',\n",
       " '__sizeof__',\n",
       " '__str__',\n",
       " '__subclasshook__',\n",
       " '__weakref__',\n",
       " '_bar',\n",
       " 'foo']"
      ]
     },
     "execution_count": 76,
     "metadata": {},
     "output_type": "execute_result"
    }
   ],
   "source": [
    "class Test:\n",
    "    def __init__(self):\n",
    "        self.foo = 42\n",
    "        self._bar = 24\n",
    "        self.__baz = 242\n",
    "\n",
    "\n",
    "t = Test()\n",
    "dir(t)"
   ]
  },
  {
   "cell_type": "markdown",
   "id": "b3386b29",
   "metadata": {},
   "source": [
    "You see `foo`, `bar` and `_Test__baz` in place of `__baz` in the output. This is because the interpreter rewrote the name of the variable to include the class name as a prefix. Python does this to protect the variable from being overridden in subclasses. "
   ]
  },
  {
   "cell_type": "code",
   "execution_count": null,
   "id": "e3fca5ef",
   "metadata": {},
   "outputs": [
    {
     "name": "stdout",
     "output_type": "stream",
     "text": [
      "overridden\n",
      "overridden\n"
     ]
    },
    {
     "ename": "AttributeError",
     "evalue": "'ExtendedTest' object has no attribute '__baz'",
     "output_type": "error",
     "traceback": [
      "\u001b[0;31m---------------------------------------------------------------------------\u001b[0m",
      "\u001b[0;31mAttributeError\u001b[0m                            Traceback (most recent call last)",
      "Cell \u001b[0;32mIn[77], line 11\u001b[0m\n\u001b[1;32m      9\u001b[0m \u001b[38;5;28mprint\u001b[39m(t2\u001b[38;5;241m.\u001b[39mfoo)\n\u001b[1;32m     10\u001b[0m \u001b[38;5;28mprint\u001b[39m(t2\u001b[38;5;241m.\u001b[39m_bar)\n\u001b[0;32m---> 11\u001b[0m \u001b[38;5;28mprint\u001b[39m(\u001b[43mt2\u001b[49m\u001b[38;5;241;43m.\u001b[39;49m\u001b[43m__baz\u001b[49m)\n",
      "\u001b[0;31mAttributeError\u001b[0m: 'ExtendedTest' object has no attribute '__baz'"
     ]
    }
   ],
   "source": [
    "class ExtendedTest(Test):\n",
    "    def __init__(self):\n",
    "        super().__init__()\n",
    "        self.foo = \"overridden\"\n",
    "        self._bar = \"overridden\"\n",
    "        self.__baz = \"overridden\"\n",
    "\n",
    "\n",
    "t2 = ExtendedTest()\n",
    "print(t2.foo)\n",
    "print(t2._bar)\n",
    "print(t2.__baz)"
   ]
  },
  {
   "cell_type": "code",
   "execution_count": 78,
   "id": "6d990b12",
   "metadata": {},
   "outputs": [
    {
     "data": {
      "text/plain": [
       "['_ExtendedTest__baz',\n",
       " '_Test__baz',\n",
       " '__class__',\n",
       " '__delattr__',\n",
       " '__dict__',\n",
       " '__dir__',\n",
       " '__doc__',\n",
       " '__eq__',\n",
       " '__format__',\n",
       " '__ge__',\n",
       " '__getattribute__',\n",
       " '__getstate__',\n",
       " '__gt__',\n",
       " '__hash__',\n",
       " '__init__',\n",
       " '__init_subclass__',\n",
       " '__le__',\n",
       " '__lt__',\n",
       " '__module__',\n",
       " '__ne__',\n",
       " '__new__',\n",
       " '__reduce__',\n",
       " '__reduce_ex__',\n",
       " '__repr__',\n",
       " '__setattr__',\n",
       " '__sizeof__',\n",
       " '__str__',\n",
       " '__subclasshook__',\n",
       " '__weakref__',\n",
       " '_bar',\n",
       " 'foo']"
      ]
     },
     "execution_count": 78,
     "metadata": {},
     "output_type": "execute_result"
    }
   ],
   "source": [
    "dir(t2)"
   ]
  },
  {
   "cell_type": "code",
   "execution_count": 79,
   "id": "8826e2dd",
   "metadata": {},
   "outputs": [
    {
     "name": "stdout",
     "output_type": "stream",
     "text": [
      "overridden\n",
      "242\n"
     ]
    }
   ],
   "source": [
    "print(t2._ExtendedTest__baz)\n",
    "print(t2._Test__baz)"
   ]
  },
  {
   "cell_type": "markdown",
   "id": "afd49f5d",
   "metadata": {},
   "source": [
    "Double underscore name mangling is fully transparent to the programmer. Look at the below example:"
   ]
  },
  {
   "cell_type": "code",
   "execution_count": 83,
   "id": "be8bb6f7",
   "metadata": {},
   "outputs": [
    {
     "name": "stdout",
     "output_type": "stream",
     "text": [
      "hello\n",
      "hello\n"
     ]
    },
    {
     "ename": "AttributeError",
     "evalue": "'ManglingTest' object has no attribute '__mangled'",
     "output_type": "error",
     "traceback": [
      "\u001b[0;31m---------------------------------------------------------------------------\u001b[0m",
      "\u001b[0;31mAttributeError\u001b[0m                            Traceback (most recent call last)",
      "Cell \u001b[0;32mIn[83], line 12\u001b[0m\n\u001b[1;32m     10\u001b[0m \u001b[38;5;28mprint\u001b[39m(mt\u001b[38;5;241m.\u001b[39mget_mangled())\n\u001b[1;32m     11\u001b[0m \u001b[38;5;28mprint\u001b[39m(mt\u001b[38;5;241m.\u001b[39m_ManglingTest__mangled)\n\u001b[0;32m---> 12\u001b[0m \u001b[38;5;28mprint\u001b[39m(\u001b[43mmt\u001b[49m\u001b[38;5;241;43m.\u001b[39;49m\u001b[43m__mangled\u001b[49m)\n",
      "\u001b[0;31mAttributeError\u001b[0m: 'ManglingTest' object has no attribute '__mangled'"
     ]
    }
   ],
   "source": [
    "class ManglingTest:\n",
    "    def __init__(self):\n",
    "        self.__mangled = \"hello\"\n",
    "\n",
    "    def get_mangled(self):\n",
    "        return self.__mangled\n",
    "\n",
    "\n",
    "mt = ManglingTest()\n",
    "print(mt.get_mangled())\n",
    "print(mt._ManglingTest__mangled)\n",
    "print(mt.__mangled)"
   ]
  },
  {
   "cell_type": "code",
   "execution_count": 84,
   "id": "7ff08ae9",
   "metadata": {},
   "outputs": [
    {
     "ename": "AttributeError",
     "evalue": "'MangledMethod' object has no attribute '__method'",
     "output_type": "error",
     "traceback": [
      "\u001b[0;31m---------------------------------------------------------------------------\u001b[0m",
      "\u001b[0;31mAttributeError\u001b[0m                            Traceback (most recent call last)",
      "Cell \u001b[0;32mIn[84], line 14\u001b[0m\n\u001b[1;32m      9\u001b[0m         \u001b[38;5;28;01mreturn\u001b[39;00m \u001b[38;5;28mself\u001b[39m\u001b[38;5;241m.\u001b[39m__method()\n\u001b[1;32m     12\u001b[0m mm \u001b[38;5;241m=\u001b[39m MangledMethod()\n\u001b[0;32m---> 14\u001b[0m \u001b[38;5;28mprint\u001b[39m(\u001b[43mmm\u001b[49m\u001b[38;5;241;43m.\u001b[39;49m\u001b[43m__method\u001b[49m())\n",
      "\u001b[0;31mAttributeError\u001b[0m: 'MangledMethod' object has no attribute '__method'"
     ]
    }
   ],
   "source": [
    "# does it apply to methods?\n",
    "\n",
    "\n",
    "class MangledMethod:\n",
    "    def __method(self):\n",
    "        return 42\n",
    "\n",
    "    def call_mangled(self):\n",
    "        return self.__method()\n",
    "\n",
    "\n",
    "mm = MangledMethod()\n",
    "\n",
    "print(mm.__method())"
   ]
  },
  {
   "cell_type": "code",
   "execution_count": 85,
   "id": "b4159d4d",
   "metadata": {},
   "outputs": [
    {
     "data": {
      "text/plain": [
       "42"
      ]
     },
     "execution_count": 85,
     "metadata": {},
     "output_type": "execute_result"
    }
   ],
   "source": [
    "mm._MangledMethod__method()"
   ]
  },
  {
   "cell_type": "code",
   "execution_count": 86,
   "id": "0992b589",
   "metadata": {},
   "outputs": [
    {
     "data": {
      "text/plain": [
       "42"
      ]
     },
     "execution_count": 86,
     "metadata": {},
     "output_type": "execute_result"
    }
   ],
   "source": [
    "mm.call_mangled()"
   ]
  },
  {
   "cell_type": "code",
   "execution_count": 88,
   "id": "5ad8c9a2",
   "metadata": {},
   "outputs": [
    {
     "data": {
      "text/plain": [
       "23"
      ]
     },
     "execution_count": 88,
     "metadata": {},
     "output_type": "execute_result"
    }
   ],
   "source": [
    "# another example to better understand name mangling\n",
    "\n",
    "_MangledGlobal__mangled = 23\n",
    "\n",
    "\n",
    "class MangledGlobal:\n",
    "    def test(self):\n",
    "        return __mangled\n",
    "\n",
    "\n",
    "MangledGlobal().test()"
   ]
  },
  {
   "cell_type": "markdown",
   "id": "e00af19d",
   "metadata": {},
   "source": [
    "Above example demonstrates that name mangling isn't tied to class attributes sepcifically. It applies to any name starting with two underscore characters that is used in the context of a class. "
   ]
  },
  {
   "cell_type": "markdown",
   "id": "918356ab",
   "metadata": {},
   "source": [
    "Double underscores is often referred to as \"dunder\" (short for \"double underscore\"). For example, `__init__` is often referred to as \"dunder init\" and `__baz` is often referred to as \"dunder baz\".\n"
   ]
  },
  {
   "cell_type": "markdown",
   "id": "9d9c8a55",
   "metadata": {},
   "source": [
    "### 2.4.4 Double leading and trailing underscore"
   ]
  },
  {
   "cell_type": "markdown",
   "id": "57f3f7b2",
   "metadata": {},
   "source": [
    "Variables with double leading and trailing underscores are reserved for special use in the language. These are also referred to as \"dunder\" variables. These are left unscathed by the python interpreter and are not mangled. These variables are used to define special methods in classes, such as `__init__`, `__str__`, `__repr__`, etc. These methods are called \"magic methods\" and are used to define the behavior of the class in certain situations. For example, the `__init__` method is called when an object is created, and the `__str__` method is called when the object is converted to a string."
   ]
  },
  {
   "cell_type": "code",
   "execution_count": null,
   "id": "3a44dbac",
   "metadata": {},
   "outputs": [
    {
     "data": {
      "text/plain": [
       "42"
      ]
     },
     "execution_count": 75,
     "metadata": {},
     "output_type": "execute_result"
    }
   ],
   "source": [
    "class PrefixPostfixTest:\n",
    "    def __init__(self):\n",
    "        self.__bam__ = 42\n",
    "\n",
    "\n",
    "PrefixPostfixTest().__bam__"
   ]
  },
  {
   "cell_type": "markdown",
   "id": "5a9a87ae",
   "metadata": {},
   "source": [
    "It is best to avoid using them in your own programs to avoid collisions with future changes to the python language"
   ]
  },
  {
   "cell_type": "markdown",
   "id": "f0b119f5",
   "metadata": {},
   "source": [
    "### 2.4.5 Single underscore\n",
    "\n",
    "Sometimes used as a name for temporary or insignificant variables (“don’t care”). Also, it represents the result of the last expression in a Python REPL session."
   ]
  },
  {
   "cell_type": "code",
   "execution_count": 70,
   "id": "c47db9e0",
   "metadata": {},
   "outputs": [
    {
     "name": "stdout",
     "output_type": "stream",
     "text": [
      "Hello\n",
      "Hello\n",
      "1\n"
     ]
    }
   ],
   "source": [
    "for _ in range(2):\n",
    "    print(\"Hello\")\n",
    "print(_)"
   ]
  },
  {
   "cell_type": "code",
   "execution_count": 71,
   "id": "12dffc27",
   "metadata": {},
   "outputs": [
    {
     "name": "stdout",
     "output_type": "stream",
     "text": [
      "red\n",
      "3.5\n"
     ]
    }
   ],
   "source": [
    "car = (\"red\", \"mango\", 12, 3.5, 456)\n",
    "color, _, number, _, fl = car\n",
    "\n",
    "print(color)\n",
    "print(_)"
   ]
  },
  {
   "cell_type": "markdown",
   "id": "c3c911e8",
   "metadata": {},
   "source": [
    "In Python REPL, the single underscore `_` is used to represent the result of the last expression evaluated. For example, \n",
    "\n",
    "```python\n",
    ">>> 1 + 2\n",
    "3\n",
    ">>> _ + 3\n",
    "6\n",
    "```\n",
    "\n",
    "It is also handy if you are constructing objects on the fly and interacting with assigning them a name\n",
    "```python\n",
    ">>> list()\n",
    "[]\n",
    ">>> _.append(1)\n",
    ">>> _.append(2)\n",
    ">>> _\n",
    "[1, 2]\n"
   ]
  },
  {
   "cell_type": "markdown",
   "id": "16e1d06d",
   "metadata": {},
   "source": [
    "### Summary\n",
    "\n",
    "- **Single Leading Underscore `_var`**: Naming convention indicating a name is meant for internal use. A hint for programmers and not enforced by the interpreter (except in wildcard imports).\n",
    "\n",
    "- **Single Trailing Underscore `var_`**: Used by convention to avoid naming conflicts with Python keywords.\n",
    "\n",
    "- **Double Leading Underscore `__var`**: Triggers name mangling when used in a class context. Enforced by the Python interpreter.\n",
    "\n",
    "- **Double Leading and Trailing Underscore `__var__`**: Indicates special methods defined by the Python language. Avoid this naming scheme for your own attributes.\n",
    "\n",
    "- **Single Underscore `_`**: Sometimes used as a name for temporary or insignificant variables (“don’t care”). Also, it represents the result of the last expression in a Python REPL session."
   ]
  },
  {
   "cell_type": "markdown",
   "id": "9cc4da09",
   "metadata": {},
   "source": [
    "## 2.5 String Formatting"
   ]
  },
  {
   "cell_type": "markdown",
   "id": "44647ce7",
   "metadata": {},
   "source": [
    "Now, we will go through four different ways to format strings in Python. Each method has its own advantages and disadvantages, and the best method to use will depend on your specific use case.\n",
    "\n",
    "1. Old-style string formatting using `%` operator\n",
    "2. New-style string formatting using `str.format()`\n",
    "3. f-strings (formatted string literals)\n",
    "4. Template strings using `string.Template` class"
   ]
  },
  {
   "cell_type": "markdown",
   "id": "242113e9",
   "metadata": {},
   "source": [
    "### 2.5.1 Old-style string formatting using `%` operator\n",
    "The old-style string formatting using `%` operator is the oldest method of string formatting in Python. It is similar to the `printf` function in C and uses format specifiers to indicate where to insert values into the string.\n"
   ]
  },
  {
   "cell_type": "code",
   "execution_count": null,
   "id": "f637488d",
   "metadata": {},
   "outputs": [],
   "source": [
    "errorno = 50159747054\n",
    "name = \"Bob\""
   ]
  },
  {
   "cell_type": "code",
   "execution_count": null,
   "id": "972ccb57",
   "metadata": {},
   "outputs": [
    {
     "data": {
      "text/plain": [
       "'Hello, Bob'"
      ]
     },
     "execution_count": 29,
     "metadata": {},
     "output_type": "execute_result"
    }
   ],
   "source": [
    "\"Hello, %s\" % name"
   ]
  },
  {
   "cell_type": "code",
   "execution_count": null,
   "id": "85958482",
   "metadata": {},
   "outputs": [
    {
     "data": {
      "text/plain": [
       "'Hey Bob, You have received badc0ffee error in your code'"
      ]
     },
     "execution_count": 30,
     "metadata": {},
     "output_type": "execute_result"
    }
   ],
   "source": [
    "\"Hey %s, You have received %x error in your code\" % (name, errorno)"
   ]
  },
  {
   "cell_type": "code",
   "execution_count": null,
   "id": "b190b533",
   "metadata": {},
   "outputs": [
    {
     "data": {
      "text/plain": [
       "'Hey Bob, there is an error with code badc0ffee'"
      ]
     },
     "execution_count": 31,
     "metadata": {},
     "output_type": "execute_result"
    }
   ],
   "source": [
    "\"Hey %(name)s, there is an error with code %(errorcode)x\" % {\n",
    "    \"name\": name,\n",
    "    \"errorcode\": errorno,\n",
    "}"
   ]
  },
  {
   "cell_type": "markdown",
   "id": "abfdd7f6",
   "metadata": {},
   "source": [
    "### 2.5.2 New-style string formatting using `str.format()`\n",
    "\n",
    "The new-style string formatting using `str.format()` was introduced in Python 3 and later backported to Python 2.7. It is more powerful and flexible than the old-style string formatting and allows you to use named placeholders, positional arguments, and format specifiers."
   ]
  },
  {
   "cell_type": "code",
   "execution_count": null,
   "id": "9403a7d9",
   "metadata": {},
   "outputs": [
    {
     "data": {
      "text/plain": [
       "'hello Bob, your error code is 50159747054'"
      ]
     },
     "execution_count": 32,
     "metadata": {},
     "output_type": "execute_result"
    }
   ],
   "source": [
    "\"hello {}, your error code is {}\".format(name, errorno)"
   ]
  },
  {
   "cell_type": "code",
   "execution_count": null,
   "id": "f9a4f06d",
   "metadata": {},
   "outputs": [
    {
     "data": {
      "text/plain": [
       "'hello Bob,your error code is 0xbadc0ffee'"
      ]
     },
     "execution_count": 37,
     "metadata": {},
     "output_type": "execute_result"
    }
   ],
   "source": [
    "\"hello {name},your error code is 0x{code:x}\".format(code=errorno, name=name)"
   ]
  },
  {
   "cell_type": "markdown",
   "id": "bddf7f7c",
   "metadata": {},
   "source": [
    "### 2.5.3 f-strings (formatted string literals)\n",
    "\n",
    "f-strings, or formatted string literals, were introduced in Python 3.6. They provide a more concise and readable way to include expressions inside string literals. To create an f-string, simply prefix the string with the letter `f` or `F`, and use curly braces `{}` to include expressions.\n"
   ]
  },
  {
   "cell_type": "code",
   "execution_count": null,
   "id": "83f3962c",
   "metadata": {},
   "outputs": [
    {
     "data": {
      "text/plain": [
       "'Hello Bob'"
      ]
     },
     "execution_count": 41,
     "metadata": {},
     "output_type": "execute_result"
    }
   ],
   "source": [
    "f\"Hello {name}\""
   ]
  },
  {
   "cell_type": "code",
   "execution_count": null,
   "id": "e15d094c",
   "metadata": {},
   "outputs": [
    {
     "data": {
      "text/plain": [
       "'when you add 5 to 2, you get 7'"
      ]
     },
     "execution_count": 42,
     "metadata": {},
     "output_type": "execute_result"
    }
   ],
   "source": [
    "# you can also embed python expressions\n",
    "\n",
    "f\"when you add 5 to 2, you get {5+2}\""
   ]
  },
  {
   "cell_type": "markdown",
   "id": "bdf5ce60",
   "metadata": {},
   "source": [
    "Behind the scenes, formatted string literals are a python parser feature that converts f-strings into a series of string constants and expressions. Then they get joined up to build the final string. "
   ]
  },
  {
   "cell_type": "code",
   "execution_count": null,
   "id": "6282ad71",
   "metadata": {},
   "outputs": [
    {
     "name": "stdout",
     "output_type": "stream",
     "text": [
      "  3           0 RESUME                   0\n",
      "\n",
      "  4           2 LOAD_CONST               1 ('Hello ')\n",
      "              4 LOAD_FAST                0 (name)\n",
      "              6 FORMAT_VALUE             0\n",
      "              8 LOAD_CONST               2 (', your question is ')\n",
      "             10 LOAD_FAST                1 (question)\n",
      "             12 FORMAT_VALUE             0\n",
      "             14 BUILD_STRING             4\n",
      "             16 RETURN_VALUE\n"
     ]
    }
   ],
   "source": [
    "import dis\n",
    "\n",
    "\n",
    "def greet(name, question):\n",
    "    return f\"Hello {name}, your question is {question}\"\n",
    "\n",
    "\n",
    "dis.dis(greet)"
   ]
  },
  {
   "cell_type": "code",
   "execution_count": null,
   "id": "76d3a4cd",
   "metadata": {},
   "outputs": [
    {
     "data": {
      "text/plain": [
       "'Hey Bob, there is an error with code 0xbadc0ffee'"
      ]
     },
     "execution_count": 44,
     "metadata": {},
     "output_type": "execute_result"
    }
   ],
   "source": [
    "f\"Hey {name}, there is an error with code {errorno:#x}\""
   ]
  },
  {
   "cell_type": "markdown",
   "id": "57cee503",
   "metadata": {},
   "source": [
    "### 2.5.4 Template strings using `string.Template` class\n",
    "\n",
    "\n",
    "This is less powerful but useful in some cases. The `string.Template` class provides a way to create simple string templates with placeholders that can be replaced with values."
   ]
  },
  {
   "cell_type": "code",
   "execution_count": null,
   "id": "8a0f733a",
   "metadata": {},
   "outputs": [
    {
     "data": {
      "text/plain": [
       "'Hey, Bob!'"
      ]
     },
     "execution_count": 45,
     "metadata": {},
     "output_type": "execute_result"
    }
   ],
   "source": [
    "from string import Template\n",
    "\n",
    "t = Template(\"Hey, $name!\")\n",
    "\n",
    "t.substitute(name=name)"
   ]
  },
  {
   "cell_type": "markdown",
   "id": "7783a40e",
   "metadata": {},
   "source": [
    "The best use case for `string.Template` is when you are handling format strings that are user-generated or come from an untrusted source. "
   ]
  },
  {
   "cell_type": "code",
   "execution_count": null,
   "id": "179ce94f",
   "metadata": {},
   "outputs": [
    {
     "data": {
      "text/plain": [
       "'this-is-a-secret'"
      ]
     },
     "execution_count": 58,
     "metadata": {},
     "output_type": "execute_result"
    }
   ],
   "source": [
    "# let us look at example of possible exploit that can be avoided using string.Template\n",
    "\n",
    "\n",
    "SECRET = \"this-is-a-secret\"\n",
    "\n",
    "\n",
    "class Error:\n",
    "    def __init__(self):\n",
    "        pass\n",
    "\n",
    "\n",
    "errno = Error()\n",
    "\n",
    "user_input = \"{error.__init__.__globals__[SECRET]}\"\n",
    "\n",
    "\n",
    "user_input.format(error=errno)"
   ]
  },
  {
   "cell_type": "code",
   "execution_count": null,
   "id": "8e2c3a80",
   "metadata": {},
   "outputs": [
    {
     "ename": "ValueError",
     "evalue": "Invalid placeholder in string: line 1, col 1",
     "output_type": "error",
     "traceback": [
      "\u001b[0;31m---------------------------------------------------------------------------\u001b[0m",
      "\u001b[0;31mValueError\u001b[0m                                Traceback (most recent call last)",
      "Cell \u001b[0;32mIn[56], line 5\u001b[0m\n\u001b[1;32m      1\u001b[0m \u001b[38;5;66;03m# correct way of doing it is\u001b[39;00m\n\u001b[1;32m      3\u001b[0m user_input \u001b[38;5;241m=\u001b[39m \u001b[38;5;124m\"\u001b[39m\u001b[38;5;124m$\u001b[39m\u001b[38;5;132;01m{error.__init__.__globals__[SECRET]}\u001b[39;00m\u001b[38;5;124m\"\u001b[39m\n\u001b[0;32m----> 5\u001b[0m \u001b[43mTemplate\u001b[49m\u001b[43m(\u001b[49m\u001b[43muser_input\u001b[49m\u001b[43m)\u001b[49m\u001b[38;5;241;43m.\u001b[39;49m\u001b[43msubstitute\u001b[49m\u001b[43m(\u001b[49m\u001b[43merror\u001b[49m\u001b[38;5;241;43m=\u001b[39;49m\u001b[43merrno\u001b[49m\u001b[43m)\u001b[49m\n",
      "File \u001b[0;32m/opt/homebrew/Caskroom/miniconda/base/lib/python3.11/string.py:121\u001b[0m, in \u001b[0;36mTemplate.substitute\u001b[0;34m(self, mapping, **kws)\u001b[0m\n\u001b[1;32m    118\u001b[0m         \u001b[38;5;28mself\u001b[39m\u001b[38;5;241m.\u001b[39m_invalid(mo)\n\u001b[1;32m    119\u001b[0m     \u001b[38;5;28;01mraise\u001b[39;00m \u001b[38;5;167;01mValueError\u001b[39;00m(\u001b[38;5;124m'\u001b[39m\u001b[38;5;124mUnrecognized named group in pattern\u001b[39m\u001b[38;5;124m'\u001b[39m,\n\u001b[1;32m    120\u001b[0m                      \u001b[38;5;28mself\u001b[39m\u001b[38;5;241m.\u001b[39mpattern)\n\u001b[0;32m--> 121\u001b[0m \u001b[38;5;28;01mreturn\u001b[39;00m \u001b[38;5;28;43mself\u001b[39;49m\u001b[38;5;241;43m.\u001b[39;49m\u001b[43mpattern\u001b[49m\u001b[38;5;241;43m.\u001b[39;49m\u001b[43msub\u001b[49m\u001b[43m(\u001b[49m\u001b[43mconvert\u001b[49m\u001b[43m,\u001b[49m\u001b[43m \u001b[49m\u001b[38;5;28;43mself\u001b[39;49m\u001b[38;5;241;43m.\u001b[39;49m\u001b[43mtemplate\u001b[49m\u001b[43m)\u001b[49m\n",
      "File \u001b[0;32m/opt/homebrew/Caskroom/miniconda/base/lib/python3.11/string.py:118\u001b[0m, in \u001b[0;36mTemplate.substitute.<locals>.convert\u001b[0;34m(mo)\u001b[0m\n\u001b[1;32m    116\u001b[0m     \u001b[38;5;28;01mreturn\u001b[39;00m \u001b[38;5;28mself\u001b[39m\u001b[38;5;241m.\u001b[39mdelimiter\n\u001b[1;32m    117\u001b[0m \u001b[38;5;28;01mif\u001b[39;00m mo\u001b[38;5;241m.\u001b[39mgroup(\u001b[38;5;124m'\u001b[39m\u001b[38;5;124minvalid\u001b[39m\u001b[38;5;124m'\u001b[39m) \u001b[38;5;129;01mis\u001b[39;00m \u001b[38;5;129;01mnot\u001b[39;00m \u001b[38;5;28;01mNone\u001b[39;00m:\n\u001b[0;32m--> 118\u001b[0m     \u001b[38;5;28;43mself\u001b[39;49m\u001b[38;5;241;43m.\u001b[39;49m\u001b[43m_invalid\u001b[49m\u001b[43m(\u001b[49m\u001b[43mmo\u001b[49m\u001b[43m)\u001b[49m\n\u001b[1;32m    119\u001b[0m \u001b[38;5;28;01mraise\u001b[39;00m \u001b[38;5;167;01mValueError\u001b[39;00m(\u001b[38;5;124m'\u001b[39m\u001b[38;5;124mUnrecognized named group in pattern\u001b[39m\u001b[38;5;124m'\u001b[39m,\n\u001b[1;32m    120\u001b[0m                  \u001b[38;5;28mself\u001b[39m\u001b[38;5;241m.\u001b[39mpattern)\n",
      "File \u001b[0;32m/opt/homebrew/Caskroom/miniconda/base/lib/python3.11/string.py:101\u001b[0m, in \u001b[0;36mTemplate._invalid\u001b[0;34m(self, mo)\u001b[0m\n\u001b[1;32m     99\u001b[0m     colno \u001b[38;5;241m=\u001b[39m i \u001b[38;5;241m-\u001b[39m \u001b[38;5;28mlen\u001b[39m(\u001b[38;5;124m'\u001b[39m\u001b[38;5;124m'\u001b[39m\u001b[38;5;241m.\u001b[39mjoin(lines[:\u001b[38;5;241m-\u001b[39m\u001b[38;5;241m1\u001b[39m]))\n\u001b[1;32m    100\u001b[0m     lineno \u001b[38;5;241m=\u001b[39m \u001b[38;5;28mlen\u001b[39m(lines)\n\u001b[0;32m--> 101\u001b[0m \u001b[38;5;28;01mraise\u001b[39;00m \u001b[38;5;167;01mValueError\u001b[39;00m(\u001b[38;5;124m'\u001b[39m\u001b[38;5;124mInvalid placeholder in string: line \u001b[39m\u001b[38;5;132;01m%d\u001b[39;00m\u001b[38;5;124m, col \u001b[39m\u001b[38;5;132;01m%d\u001b[39;00m\u001b[38;5;124m'\u001b[39m \u001b[38;5;241m%\u001b[39m\n\u001b[1;32m    102\u001b[0m                  (lineno, colno))\n",
      "\u001b[0;31mValueError\u001b[0m: Invalid placeholder in string: line 1, col 1"
     ]
    }
   ],
   "source": [
    "# correct way of doing it is\n",
    "\n",
    "user_input = \"${error.__init__.__globals__[SECRET]}\"\n",
    "\n",
    "Template(user_input).substitute(error=errno)"
   ]
  },
  {
   "cell_type": "markdown",
   "id": "def5964a",
   "metadata": {},
   "source": [
    "> Which string formatting to use?\n",
    "\n",
    "If your format strings are user supplied, use Template strings to avoid security issues. Otherwise, use Literal String Interpolation (f-strings) if you are using Python 3.6 or later. If you are using Python 2.7 or earlier, use `str.format()` method. Avoid using old-style string formatting with `%` operator as it is less readable and less powerful than the other methods."
   ]
  },
  {
   "cell_type": "markdown",
   "id": "59829fb7",
   "metadata": {},
   "source": [
    "## 2.6 Zen of Python"
   ]
  },
  {
   "cell_type": "markdown",
   "id": "8cb6961e",
   "metadata": {},
   "source": [
    "The Zen of Python is a collection of guiding principles for writing computer programs in the Python language. It was written by Tim Peters and is included as an Easter egg in the Python interpreter. You can access it by running the following command in a Python shell:\n",
    "\n",
    "```python\n",
    "import this\n",
    "```"
   ]
  },
  {
   "cell_type": "code",
   "execution_count": null,
   "id": "f90fb5ff",
   "metadata": {},
   "outputs": [
    {
     "name": "stdout",
     "output_type": "stream",
     "text": [
      "The Zen of Python, by Tim Peters\n",
      "\n",
      "Beautiful is better than ugly.\n",
      "Explicit is better than implicit.\n",
      "Simple is better than complex.\n",
      "Complex is better than complicated.\n",
      "Flat is better than nested.\n",
      "Sparse is better than dense.\n",
      "Readability counts.\n",
      "Special cases aren't special enough to break the rules.\n",
      "Although practicality beats purity.\n",
      "Errors should never pass silently.\n",
      "Unless explicitly silenced.\n",
      "In the face of ambiguity, refuse the temptation to guess.\n",
      "There should be one-- and preferably only one --obvious way to do it.\n",
      "Although that way may not be obvious at first unless you're Dutch.\n",
      "Now is better than never.\n",
      "Although never is often better than *right* now.\n",
      "If the implementation is hard to explain, it's a bad idea.\n",
      "If the implementation is easy to explain, it may be a good idea.\n",
      "Namespaces are one honking great idea -- let's do more of those!\n"
     ]
    }
   ],
   "source": [
    "import this"
   ]
  },
  {
   "cell_type": "code",
   "execution_count": null,
   "id": "c4bcd54e",
   "metadata": {},
   "outputs": [],
   "source": []
  }
 ],
 "metadata": {
  "kernelspec": {
   "display_name": "base",
   "language": "python",
   "name": "python3"
  },
  "language_info": {
   "codemirror_mode": {
    "name": "ipython",
    "version": 3
   },
   "file_extension": ".py",
   "mimetype": "text/x-python",
   "name": "python",
   "nbconvert_exporter": "python",
   "pygments_lexer": "ipython3",
   "version": "3.11.7"
  }
 },
 "nbformat": 4,
 "nbformat_minor": 5
}
